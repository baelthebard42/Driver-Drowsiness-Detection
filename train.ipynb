{
 "cells": [
  {
   "cell_type": "markdown",
   "id": "edf0c38d",
   "metadata": {},
   "source": [
    "# Description\n",
    "\n",
    "This notebook is used for training the DrowsinessModel (defined in model.py) to detect if a driver is tending to fall asleep. Post training evaluations are also done after training."
   ]
  },
  {
   "cell_type": "markdown",
   "id": "82e05468",
   "metadata": {},
   "source": [
    "# Imports"
   ]
  },
  {
   "cell_type": "code",
   "execution_count": 31,
   "id": "77fd4d44",
   "metadata": {},
   "outputs": [],
   "source": [
    "import torch, os, tqdm\n",
    "from model import DrowsinessModel\n",
    "from dataset import DrowsinessDataset\n",
    "from torch.nn import CrossEntropyLoss\n",
    "from torch.utils.data import random_split, DataLoader\n",
    "from torchvision import transforms\n",
    "import matplotlib.pyplot as plt\n",
    "from sklearn.metrics import classification_report, confusion_matrix\n",
    "import seaborn as sns, numpy as np"
   ]
  },
  {
   "cell_type": "markdown",
   "id": "ed6620db",
   "metadata": {},
   "source": [
    "# Initializations and Hyperparameters"
   ]
  },
  {
   "cell_type": "markdown",
   "id": "76783042",
   "metadata": {},
   "source": [
    "### Initializations"
   ]
  },
  {
   "cell_type": "code",
   "execution_count": 2,
   "id": "f417f52f",
   "metadata": {},
   "outputs": [],
   "source": [
    "ANNOTATIONS_PATH = 'dataset_annotations.json'\n",
    "TRAIN_FRACTION = 0.8"
   ]
  },
  {
   "cell_type": "markdown",
   "id": "ff688835",
   "metadata": {},
   "source": [
    "### Model Parameters"
   ]
  },
  {
   "cell_type": "code",
   "execution_count": 3,
   "id": "bc1cfb15",
   "metadata": {},
   "outputs": [],
   "source": [
    "IN_CHANNELS = 3\n",
    "OUT_CHANNELS = 4\n",
    "FEATURES = [16, 32]"
   ]
  },
  {
   "cell_type": "markdown",
   "id": "ab184ed0",
   "metadata": {},
   "source": [
    "### Training Parameters"
   ]
  },
  {
   "cell_type": "code",
   "execution_count": 4,
   "id": "f6b06f05",
   "metadata": {},
   "outputs": [],
   "source": [
    "EPOCHS = 15\n",
    "LEARNING_RATE = 1e-4\n",
    "WEIGHT_DECAY = 1e-6\n",
    "BATCH_SIZE = 32"
   ]
  },
  {
   "cell_type": "markdown",
   "id": "9cdb3a90",
   "metadata": {},
   "source": [
    "# Prerequisites"
   ]
  },
  {
   "cell_type": "markdown",
   "id": "8c489894",
   "metadata": {},
   "source": [
    "### Loading dataset"
   ]
  },
  {
   "cell_type": "code",
   "execution_count": 5,
   "id": "e84cf61f",
   "metadata": {},
   "outputs": [],
   "source": [
    "transform = transforms.Compose([\n",
    "    transforms.Resize((145, 145)),\n",
    "    transforms.ToTensor(), \n",
    "])"
   ]
  },
  {
   "cell_type": "code",
   "execution_count": 6,
   "id": "02cee323",
   "metadata": {},
   "outputs": [
    {
     "data": {
      "text/plain": [
       "2896"
      ]
     },
     "execution_count": 6,
     "metadata": {},
     "output_type": "execute_result"
    }
   ],
   "source": [
    "full_dataset = DrowsinessDataset(ANNOTATIONS_PATH, transform=transform)\n",
    "len(full_dataset)"
   ]
  },
  {
   "cell_type": "code",
   "execution_count": 7,
   "id": "86dc5102",
   "metadata": {},
   "outputs": [
    {
     "data": {
      "text/plain": [
       "(2316, 580)"
      ]
     },
     "execution_count": 7,
     "metadata": {},
     "output_type": "execute_result"
    }
   ],
   "source": [
    "train_size = int(TRAIN_FRACTION*len(full_dataset))\n",
    "test_size = len(full_dataset)-train_size\n",
    "train_size, test_size"
   ]
  },
  {
   "cell_type": "code",
   "execution_count": 8,
   "id": "9ec3de98",
   "metadata": {},
   "outputs": [],
   "source": [
    "train_dataset, test_dataset = random_split(full_dataset, [train_size, test_size])"
   ]
  },
  {
   "cell_type": "code",
   "execution_count": 9,
   "id": "6d9ef609",
   "metadata": {},
   "outputs": [],
   "source": [
    "train_loader = DataLoader(train_dataset, batch_size=BATCH_SIZE, shuffle=True)\n",
    "test_loader = DataLoader(test_dataset, batch_size=BATCH_SIZE)"
   ]
  },
  {
   "cell_type": "code",
   "execution_count": 10,
   "id": "445de319",
   "metadata": {},
   "outputs": [
    {
     "name": "stdout",
     "output_type": "stream",
     "text": [
      "torch.Size([32, 3, 145, 145]) torch.Size([32, 4])\n"
     ]
    }
   ],
   "source": [
    "for feature, target in train_loader:\n",
    "    print(feature.shape, target.shape)\n",
    "    break"
   ]
  },
  {
   "cell_type": "code",
   "execution_count": 11,
   "id": "1d19e150",
   "metadata": {},
   "outputs": [
    {
     "data": {
      "text/plain": [
       "torch.float32"
      ]
     },
     "execution_count": 11,
     "metadata": {},
     "output_type": "execute_result"
    }
   ],
   "source": [
    "feature.dtype"
   ]
  },
  {
   "cell_type": "markdown",
   "id": "af87c8ff",
   "metadata": {},
   "source": [
    "### Model"
   ]
  },
  {
   "cell_type": "code",
   "execution_count": 12,
   "id": "abdd05d4",
   "metadata": {},
   "outputs": [
    {
     "data": {
      "text/plain": [
       "DrowsinessModel(\n",
       "  (conv_layers): ModuleList(\n",
       "    (0): ConvPiece(\n",
       "      (conv): Sequential(\n",
       "        (0): Conv2d(3, 16, kernel_size=(3, 3), stride=(1, 1), padding=(1, 1))\n",
       "        (1): BatchNorm2d(16, eps=1e-05, momentum=0.1, affine=True, track_running_stats=True)\n",
       "        (2): ReLU(inplace=True)\n",
       "      )\n",
       "    )\n",
       "    (1): ConvPiece(\n",
       "      (conv): Sequential(\n",
       "        (0): Conv2d(16, 32, kernel_size=(3, 3), stride=(1, 1), padding=(1, 1))\n",
       "        (1): BatchNorm2d(32, eps=1e-05, momentum=0.1, affine=True, track_running_stats=True)\n",
       "        (2): ReLU(inplace=True)\n",
       "      )\n",
       "    )\n",
       "  )\n",
       "  (pool): MaxPool2d(kernel_size=2, stride=2, padding=0, dilation=1, ceil_mode=False)\n",
       "  (dropout): Dropout(p=0.3, inplace=False)\n",
       "  (flatten): Flatten(start_dim=1, end_dim=-1)\n",
       "  (fc1): Linear(in_features=41472, out_features=32, bias=True)\n",
       "  (fc2): Linear(in_features=32, out_features=4, bias=True)\n",
       ")"
      ]
     },
     "execution_count": 12,
     "metadata": {},
     "output_type": "execute_result"
    }
   ],
   "source": [
    "model = DrowsinessModel(in_channel=IN_CHANNELS, out_channel=OUT_CHANNELS, features=FEATURES)\n",
    "model"
   ]
  },
  {
   "cell_type": "markdown",
   "id": "221ea09f",
   "metadata": {},
   "source": [
    "# Training"
   ]
  },
  {
   "cell_type": "markdown",
   "id": "5e817e64",
   "metadata": {},
   "source": [
    "### Prerequisities"
   ]
  },
  {
   "cell_type": "code",
   "execution_count": 13,
   "id": "1e34589b",
   "metadata": {},
   "outputs": [
    {
     "data": {
      "text/plain": [
       "'cuda'"
      ]
     },
     "execution_count": 13,
     "metadata": {},
     "output_type": "execute_result"
    }
   ],
   "source": [
    "device = \"cuda\" if torch.cuda.is_available() else \"cpu\"\n",
    "device"
   ]
  },
  {
   "cell_type": "code",
   "execution_count": 14,
   "id": "2a198b28",
   "metadata": {},
   "outputs": [],
   "source": [
    "def train_one_epoch(model, dataloader, loss_fn, optimizer, device):\n",
    "\n",
    "    running_loss = 0\n",
    "    last_loss = 0\n",
    "\n",
    "    for i, data in enumerate(dataloader):\n",
    "\n",
    "        feature, target = data\n",
    "        feature = feature.to(device)\n",
    "        target = target.to(device)\n",
    "\n",
    "        optimizer.zero_grad()\n",
    "\n",
    "        predictions = model(feature)\n",
    "\n",
    "        loss = loss_fn(predictions, target)\n",
    "\n",
    "        loss.backward()\n",
    "        optimizer.step()\n",
    "\n",
    "        running_loss += loss.item()\n",
    "\n",
    "        if (i+1)%5==0:\n",
    "            last_loss = running_loss/5\n",
    "            print(f'Batch {i+1},  loss: {last_loss}')\n",
    "            running_loss=0\n",
    "    return last_loss\n",
    "\n",
    "\n"
   ]
  },
  {
   "cell_type": "code",
   "execution_count": 15,
   "id": "d62228c0",
   "metadata": {},
   "outputs": [],
   "source": [
    "def train(model, train_loader, val_loader, loss_fn, optimizer, device, epochs):\n",
    "\n",
    "    model = model.to(device)\n",
    "\n",
    "    for epoch in range(epochs):\n",
    "        \n",
    "        print(f\"EPOCH {epoch+1}\")\n",
    "\n",
    "        model.train(True)\n",
    "\n",
    "        avg_loss = train_one_epoch(model, train_loader, loss_fn, optimizer, device)\n",
    "\n",
    "        running_val_loss = 0.0\n",
    "\n",
    "        model.eval()\n",
    "\n",
    "        with torch.no_grad():\n",
    "\n",
    "            for i, vdata in enumerate(val_loader):\n",
    "              vfeature, vtarget = vdata\n",
    "              vfeature=vfeature.to(device)\n",
    "              vtarget=vtarget.to(device)\n",
    "              vpredictions = model(vfeature)\n",
    "\n",
    "              vloss = loss_fn(vpredictions, vtarget)\n",
    "              running_val_loss+=vloss\n",
    "            avg_vloss = running_val_loss/(i+1)\n",
    "        \n",
    "        print(f'LOSS train {avg_loss}. Validation loss: {avg_vloss} \\n\\n')\n",
    "\n",
    "        \n",
    "        checkpoint = {\n",
    "                'epoch': epoch,  \n",
    "                'model_state_dict': model.state_dict(), \n",
    "                'optimizer_state_dict': optimizer.state_dict(), \n",
    "                'avg_loss':avg_loss,\n",
    "                'avg_vloss':avg_vloss\n",
    "               \n",
    "                   }\n",
    "           \n",
    "        if not os.path.exists(\"./checkpoints\"):\n",
    "              os.mkdir(\"checkpoints\")\n",
    "\n",
    "        torch.save(checkpoint, f'./checkpoints/checkpoint_{epoch+1}.pth')\n",
    "\n",
    "\n",
    "\n",
    "        \n"
   ]
  },
  {
   "cell_type": "code",
   "execution_count": 16,
   "id": "918d29fb",
   "metadata": {},
   "outputs": [],
   "source": [
    "optimizer = torch.optim.Adam(lr=LEARNING_RATE, params=model.parameters(), weight_decay=WEIGHT_DECAY)\n",
    "loss_fn = CrossEntropyLoss()"
   ]
  },
  {
   "cell_type": "code",
   "execution_count": null,
   "id": "5ac434ca",
   "metadata": {},
   "outputs": [],
   "source": [
    "train(model, train_loader, test_loader, loss_fn, optimizer, device, EPOCHS)"
   ]
  },
  {
   "cell_type": "markdown",
   "id": "531d41e2",
   "metadata": {},
   "source": [
    "# Evaluation: Loss trend, Accuracy, F1-score"
   ]
  },
  {
   "cell_type": "code",
   "execution_count": 21,
   "id": "f09b11fe",
   "metadata": {},
   "outputs": [],
   "source": [
    "checkpoint_dir = \"./checkpoints\""
   ]
  },
  {
   "cell_type": "markdown",
   "id": "db8f89c5",
   "metadata": {},
   "source": [
    "### Loss trend"
   ]
  },
  {
   "cell_type": "code",
   "execution_count": 19,
   "id": "be3e453e",
   "metadata": {},
   "outputs": [],
   "source": [
    "epochs = []\n",
    "train_losses = []\n",
    "val_losses = []"
   ]
  },
  {
   "cell_type": "code",
   "execution_count": 22,
   "id": "8632621e",
   "metadata": {},
   "outputs": [],
   "source": [
    "checkpoint_files = sorted([\n",
    "    f for f in os.listdir(checkpoint_dir)\n",
    "    if f.endswith(\".pth\") and f.startswith(\"checkpoint_\")\n",
    "], key=lambda x: int(x.split(\"_\")[1].split(\".\")[0]))"
   ]
  },
  {
   "cell_type": "code",
   "execution_count": 23,
   "id": "25b03fb8",
   "metadata": {},
   "outputs": [
    {
     "data": {
      "image/png": "[encoded data removed]",
      "text/plain": [
       "<Figure size 1000x600 with 1 Axes>"
      ]
     },
     "metadata": {},
     "output_type": "display_data"
    }
   ],
   "source": [
    "for ckpt_file in checkpoint_files:\n",
    "    path = os.path.join(checkpoint_dir, ckpt_file)\n",
    "    checkpoint = torch.load(path, map_location='cpu')\n",
    "    \n",
    "    epoch = checkpoint['epoch'] + 1  \n",
    "    train_loss = checkpoint['avg_loss']\n",
    "    val_loss = checkpoint['avg_vloss']\n",
    "    \n",
    "    epochs.append(epoch)\n",
    "    train_losses.append(train_loss)\n",
    "    val_losses.append(val_loss)\n",
    "plt.figure(figsize=(10, 6))\n",
    "plt.plot(epochs, train_losses, label=\"Train Loss\", marker='o')\n",
    "plt.plot(epochs, val_losses, label=\"Validation Loss\", marker='o')\n",
    "plt.xlabel(\"Epoch\")\n",
    "plt.ylabel(\"Loss\")\n",
    "plt.title(\"Training vs Validation Loss\")\n",
    "plt.legend()\n",
    "plt.grid(True)\n",
    "plt.tight_layout()\n",
    "plt.show()"
   ]
  },
  {
   "cell_type": "markdown",
   "id": "bd7663dd",
   "metadata": {},
   "source": [
    "### Accuracy"
   ]
  },
  {
   "cell_type": "code",
   "execution_count": 28,
   "id": "9025e7a0",
   "metadata": {},
   "outputs": [],
   "source": [
    "def evaluate_accuracy(model, test_loader, device):\n",
    "    model.eval()\n",
    "    correct = 0\n",
    "    total = 0\n",
    "\n",
    "    with torch.no_grad():\n",
    "        for images, targets in tqdm.tqdm(test_loader):\n",
    "            images = images.to(device)\n",
    "            targets = targets.to(device)\n",
    "\n",
    "           \n",
    "            outputs = model(images)  \n",
    "            predicted = torch.argmax(outputs, dim=1)\n",
    "            labels = torch.argmax(targets, dim=1)\n",
    "\n",
    "            correct += (predicted == labels).sum().item()\n",
    "            total += labels.size(0)\n",
    "\n",
    "    accuracy = 100.0 * correct / total\n",
    "    print(f\"Accuracy on test set: {accuracy:.2f}%\")\n",
    "    return accuracy"
   ]
  },
  {
   "cell_type": "code",
   "execution_count": 29,
   "id": "aaa7dede",
   "metadata": {},
   "outputs": [
    {
     "name": "stderr",
     "output_type": "stream",
     "text": [
      "  0%|          | 0/19 [00:00<?, ?it/s]"
     ]
    },
    {
     "name": "stderr",
     "output_type": "stream",
     "text": [
      "100%|██████████| 19/19 [00:00<00:00, 23.88it/s]"
     ]
    },
    {
     "name": "stdout",
     "output_type": "stream",
     "text": [
      "Accuracy on test set: 97.93%\n"
     ]
    },
    {
     "name": "stderr",
     "output_type": "stream",
     "text": [
      "\n"
     ]
    },
    {
     "data": {
      "text/plain": [
       "97.93103448275862"
      ]
     },
     "execution_count": 29,
     "metadata": {},
     "output_type": "execute_result"
    }
   ],
   "source": [
    "evaluate_accuracy(model, test_loader, device)"
   ]
  },
  {
   "cell_type": "markdown",
   "id": "4bc3f7a7",
   "metadata": {},
   "source": [
    "### Precision, Recall, F1-score and Confusion Matrix"
   ]
  },
  {
   "cell_type": "code",
   "execution_count": 34,
   "id": "feeab0ed",
   "metadata": {},
   "outputs": [],
   "source": [
    "def evaluate_classification_metrics(model, test_loader, device, class_names=None):\n",
    "    model.eval()\n",
    "    y_true = []\n",
    "    y_pred = []\n",
    "\n",
    "    with torch.no_grad():\n",
    "        for images, targets in tqdm.tqdm(test_loader):\n",
    "            images = images.to(device)\n",
    "            targets = targets.to(device)\n",
    "\n",
    "            outputs = model(images)\n",
    "            preds = torch.argmax(outputs, dim=1)\n",
    "            labels = torch.argmax(targets, dim=1)\n",
    "\n",
    "            y_true.extend(labels.cpu().numpy())\n",
    "            y_pred.extend(preds.cpu().numpy())\n",
    "\n",
    "  \n",
    "    print(\"Classification Report:\")\n",
    "    print(classification_report(y_true, y_pred, target_names=class_names))\n",
    "\n",
    " \n",
    "    cm = confusion_matrix(y_true, y_pred)\n",
    "    plt.figure(figsize=(6, 5))\n",
    "    sns.heatmap(cm, annot=True, fmt='d', cmap='Blues',\n",
    "                xticklabels=class_names, yticklabels=class_names)\n",
    "    plt.xlabel(\"Predicted\")\n",
    "    plt.ylabel(\"True\")\n",
    "    plt.title(\"Confusion Matrix\")\n",
    "    plt.tight_layout()\n",
    "    plt.show()\n",
    "\n",
    "    return cm"
   ]
  },
  {
   "cell_type": "code",
   "execution_count": 35,
   "id": "c3e39eae",
   "metadata": {},
   "outputs": [
    {
     "name": "stderr",
     "output_type": "stream",
     "text": [
      "100%|██████████| 19/19 [00:00<00:00, 20.88it/s]\n"
     ]
    },
    {
     "name": "stdout",
     "output_type": "stream",
     "text": [
      "Classification Report:\n",
      "               precision    recall  f1-score   support\n",
      "\n",
      "   yawn_faces       0.99      0.99      0.99       155\n",
      "no_yawn_faces       0.99      0.99      0.99       153\n",
      "       Closed       0.95      0.98      0.97       130\n",
      "         Open       0.98      0.96      0.97       142\n",
      "\n",
      "     accuracy                           0.98       580\n",
      "    macro avg       0.98      0.98      0.98       580\n",
      " weighted avg       0.98      0.98      0.98       580\n",
      "\n"
     ]
    },
    {
     "data": {
      "image/png": "[encoded data removed]",
      "text/plain": [
       "<Figure size 600x500 with 2 Axes>"
      ]
     },
     "metadata": {},
     "output_type": "display_data"
    },
    {
     "data": {
      "text/plain": [
       "array([[153,   1,   1,   0],\n",
       "       [  1, 152,   0,   0],\n",
       "       [  0,   0, 127,   3],\n",
       "       [  0,   1,   5, 136]], dtype=int64)"
      ]
     },
     "execution_count": 35,
     "metadata": {},
     "output_type": "execute_result"
    }
   ],
   "source": [
    "class_names = [ 'yawn_faces','no_yawn_faces','Closed','Open'] \n",
    "evaluate_classification_metrics(model, test_loader, device, class_names)"
   ]
  }
 ],
 "metadata": {
  "kernelspec": {
   "display_name": "venv",
   "language": "python",
   "name": "python3"
  },
  "language_info": {
   "codemirror_mode": {
    "name": "ipython",
    "version": 3
   },
   "file_extension": ".py",
   "mimetype": "text/x-python",
   "name": "python",
   "nbconvert_exporter": "python",
   "pygments_lexer": "ipython3",
   "version": "3.12.0"
  }
 },
 "nbformat": 4,
 "nbformat_minor": 5
}
